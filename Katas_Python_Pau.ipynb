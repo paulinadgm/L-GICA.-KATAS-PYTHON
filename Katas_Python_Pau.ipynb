{
 "cells": [
  {
   "cell_type": "code",
   "execution_count": 10,
   "id": "3b2f4a80",
   "metadata": {},
   "outputs": [],
   "source": [
    "#1. Escribe una función que reciba una cadena de texto como parámetro y devuelva un diccionario con las frecuencias de cada letra en la cadena. Los espacios no deben ser considerados.\n",
    "def cadena_uno(texto):\n",
    "    frecuencia = {}\n",
    "    for letra in texto:\n",
    "        if letra != ' ':\n",
    "            if letra in frecuencia:\n",
    "                frecuencia [letra] +=1\n",
    "            else:\n",
    "                frecuencia [letra] = 1\n",
    "    return frecuencia"
   ]
  },
  {
   "cell_type": "code",
   "execution_count": 11,
   "id": "64d383d6",
   "metadata": {},
   "outputs": [],
   "source": [
    "resultado = cadena_uno('Mi nombre es Paulina')"
   ]
  },
  {
   "cell_type": "code",
   "execution_count": 12,
   "id": "cd44ba5d",
   "metadata": {},
   "outputs": [
    {
     "name": "stdout",
     "output_type": "stream",
     "text": [
      "{'M': 1, 'i': 2, 'n': 2, 'o': 1, 'm': 1, 'b': 1, 'r': 1, 'e': 2, 's': 1, 'P': 1, 'a': 2, 'u': 1, 'l': 1}\n"
     ]
    }
   ],
   "source": [
    "print(resultado)"
   ]
  },
  {
   "cell_type": "code",
   "execution_count": 17,
   "id": "669c4542",
   "metadata": {},
   "outputs": [
    {
     "name": "stdout",
     "output_type": "stream",
     "text": [
      "El doble de cada valor es:[2, 4, 6, 8, 10]\n"
     ]
    }
   ],
   "source": [
    "#2.Dada una lista de números, obtén una nueva lista con el doble de cada valor. funcion map()\n",
    "numeros= [1,2,3,4,5]\n",
    "resultado_map= list(map(lambda x: x* 2, numeros))\n",
    "print(f\"El doble de cada valor es:{resultado_map}\")"
   ]
  },
  {
   "cell_type": "code",
   "execution_count": 44,
   "id": "b73761cd",
   "metadata": {},
   "outputs": [],
   "source": [
    "#3. Escribe una función que tome una lista de palabras y una palabra objetivo como parámetros. La función debe\n",
    "#devolver una lista con todas las palabras de la lista original que contengan la palabra objetivo.\n",
    "\n",
    "def ejercicio_2(lista_palabras, objetivo):\n",
    "    resultado= []\n",
    "    for palabra in lista_palabras:\n",
    "        if objetivo in palabra:\n",
    "            resultado.append(palabra)\n",
    "        else: \n",
    "            resultado.append('no tiene palabra objetivo')\n",
    "    return resultado"
   ]
  },
  {
   "cell_type": "code",
   "execution_count": 45,
   "id": "9c82e477",
   "metadata": {},
   "outputs": [],
   "source": [
    "palabra=['aluminio', 'alumno', 'alumnado', 'alumbra', 'pedro']\n",
    "objetivo = 'alum'"
   ]
  },
  {
   "cell_type": "code",
   "execution_count": 46,
   "id": "59700fd0",
   "metadata": {},
   "outputs": [
    {
     "name": "stdout",
     "output_type": "stream",
     "text": [
      "['aluminio', 'alumno', 'alumnado', 'alumbra', 'no tiene palabra objetivo']\n"
     ]
    }
   ],
   "source": [
    "resultado= ejercicio_2(palabra, objetivo)\n",
    "print(resultado)"
   ]
  },
  {
   "cell_type": "code",
   "execution_count": 59,
   "id": "0cfdf05a",
   "metadata": {},
   "outputs": [
    {
     "name": "stdout",
     "output_type": "stream",
     "text": [
      "<map object at 0x111b78580>\n",
      "[1, 1, 1, 1, 1, 1]\n"
     ]
    }
   ],
   "source": [
    "#4. Genera una función que calcule la diferencia entre los valores de dos listas. Usa la función map()\n",
    "lista_valores=[3,5,7,9,11,13]\n",
    "lista_valores2=[2,4,6,8,10,12]\n",
    "\n",
    "resultado_map =map(lambda x, y: x-y, lista_valores, lista_valores2)\n",
    "print(resultado_map)\n",
    "\n",
    "list_resultado_map= list(map(lambda x, y: x-y, lista_valores, lista_valores2))\n",
    "print(list_resultado_map)\n",
    "    \n"
   ]
  },
  {
   "cell_type": "code",
   "execution_count": null,
   "id": "eb6b4356",
   "metadata": {},
   "outputs": [],
   "source": [
    "# 5. Ecribe una función que tome una lista de números como parámetro \n",
    "# y un valor opcional nota_aprobado, que por defecto es 5. \n",
    "# La función debe calcular la media de los números en la lista y determinar si la media es mayor \n",
    "# o igual que nota aprobado. Si es así, el estado será \"aprobado\", de lo contrario, será \"suspenso\". \n",
    "# La función debe devolver una tupla que contenga la media y el estado."
   ]
  },
  {
   "cell_type": "code",
   "execution_count": 86,
   "id": "cf5b0973",
   "metadata": {},
   "outputs": [
    {
     "name": "stdout",
     "output_type": "stream",
     "text": [
      "aprobado\n",
      "(5, 'aprobado')\n",
      "aprobado\n"
     ]
    },
    {
     "data": {
      "text/plain": [
       "tuple"
      ]
     },
     "execution_count": 86,
     "metadata": {},
     "output_type": "execute_result"
    }
   ],
   "source": [
    "#5\n",
    "lista_num5 = [2, 7, 6, 5, 2, 8]\n",
    "\n",
    "def nota_lista(num5, nota_aprobado =5):\n",
    "    media= mean(lista_num5)\n",
    "\n",
    "    if media >= nota_aprobado:\n",
    "        estado =\"aprobado\"\n",
    "        print(\"aprobado\")\n",
    "    else:\n",
    "        estado=\"suspenso\"\n",
    "        print(\"suspenso\")\n",
    "    \n",
    "    return (media, estado)\n",
    "\n",
    "print(nota_lista(lista_num5))\n",
    "type(nota_lista(lista_num5))\n"
   ]
  },
  {
   "cell_type": "code",
   "execution_count": 30,
   "id": "91187930",
   "metadata": {},
   "outputs": [
    {
     "data": {
      "text/plain": [
       "6"
      ]
     },
     "execution_count": 30,
     "metadata": {},
     "output_type": "execute_result"
    }
   ],
   "source": [
    "#6. Escribe una función que calcule el factorial de un número de manera recursiva.\n",
    "def factorial(n):\n",
    "    if n == 0 or n == 1:\n",
    "        return 1\n",
    "    else:\n",
    "        return n * factorial(n - 1)\n",
    "\n",
    "factorial(3)"
   ]
  },
  {
   "cell_type": "code",
   "execution_count": 108,
   "id": "0a7f0a34",
   "metadata": {},
   "outputs": [
    {
     "name": "stdout",
     "output_type": "stream",
     "text": [
      "[('hola', 'clase', 'python'), ('adios', 'mapa', 'lunes')]\n"
     ]
    },
    {
     "data": {
      "text/plain": [
       "list"
      ]
     },
     "execution_count": 108,
     "metadata": {},
     "output_type": "execute_result"
    }
   ],
   "source": [
    "#7 Genera una función que convierta una lista de tuplas a una lista de strings. \n",
    "# Usa la función map()\n",
    "\n",
    "tupla_1=(\"hola\",\"clase\",\"python\")\n",
    "tupla_2=(\"adios\",\"mapa\",\"lunes\")\n",
    "\n",
    "lista_tuplas= [tupla_1, tupla_2]\n",
    "\n",
    "resultado_map= list(map(str,lista_tuplas))\n",
    "\n",
    "type(resultado_map)\n",
    "\n",
    "\n",
    "print(lista_tuplas)\n",
    "type(lista_tuplas)\n",
    "\n"
   ]
  },
  {
   "cell_type": "code",
   "execution_count": null,
   "id": "e6c47dc2",
   "metadata": {},
   "outputs": [
    {
     "name": "stdout",
     "output_type": "stream",
     "text": [
      "El resultado de la division es: 7.0\n"
     ]
    }
   ],
   "source": [
    "#8 Escribe un programa que pida al usuario dos números e intente dividirlos. \n",
    "# Si el usuario ingresa un valor no numérico o intenta dividir por cero, \n",
    "# maneja esas excepciones de manera adecuada. \n",
    "# Asegúrate de mostrar un mensaje indicando si la división fue exitosa o no.\n",
    "\n",
    "try:\n",
    "    num_1= int(input(\"dime un primer numero\"))\n",
    "    num_2= int(input(\"dime un segundo numero\"))\n",
    "    resultado= num_1/num_2\n",
    "\n",
    "except  ZeroDivisionError:\n",
    "    print(\"no puedes poner números divididos para 0\")\n",
    "except ValueError:\n",
    "    print(\"Solo puedes poner números\")\n",
    "else:\n",
    "    print(\"El resultado de la division es:\", round(resultado,1))\n",
    "\n"
   ]
  },
  {
   "cell_type": "code",
   "execution_count": null,
   "id": "f6c018de",
   "metadata": {},
   "outputs": [
    {
     "name": "stdout",
     "output_type": "stream",
     "text": [
      "['Perro', 'Gato', 'Conejo', 'Tortuga']\n"
     ]
    }
   ],
   "source": [
    "#9 Escribe una función que tome una lista de nombres de mascotas como parámetro y \n",
    "# devuelva una nueva lista excluyendo ciertas mascotas prohibidas en España. \n",
    "# La lista de mascotas a excluir es [\"Mapache\", \"Tigre\", \"Serpiente Pitón\", \"Cocodrilo\", \"Oso\"].\n",
    "# Usa la función filter()\n",
    "\n",
    "lista_mascotas=[\"Mapache\", \"Tigre\", \"Serpiente Pitón\", \"Cocodrilo\", \"Oso\", \"Perro\", \"Gato\", \"Conejo\", \"Tortuga\"]\n",
    "mascotas_proh= [\"Mapache\", \"Tigre\", \"Serpiente Pitón\", \"Cocodrilo\", \"Oso\"]\n",
    "\n",
    "def permitidas(mascota):\n",
    "    \"\"\"Funcion que me permite sacar las las prohibidas\"\"\"\n",
    "    return (mascota) not in mascotas_proh\n",
    "\n",
    "mascotas_permitidas= list(filter(permitidas, lista_mascotas))\n",
    "print(mascotas_permitidas)"
   ]
  },
  {
   "cell_type": "code",
   "execution_count": 162,
   "id": "1ab8ab89",
   "metadata": {},
   "outputs": [
    {
     "name": "stdout",
     "output_type": "stream",
     "text": [
      "La lista no puede estar vacía\n",
      "None\n"
     ]
    }
   ],
   "source": [
    "#10. Escribe una función que reciba una lista de números y calcule su promedio. \n",
    "# Si la lista está vacía, lanza una excepción personalizada y maneja el error adecuadamente.\n",
    "\n",
    "list_num= []\n",
    "\n",
    "def promedio_lista(numeros):\n",
    "    if numeros:\n",
    "        return sum(numeros) / len(numeros)\n",
    "    else:\n",
    "        print(\"La lista no puede estar vacía\")\n",
    "\n",
    "resultado= promedio_lista(list_num)\n",
    "print(resultado)\n"
   ]
  },
  {
   "cell_type": "code",
   "execution_count": 170,
   "id": "66c6320a",
   "metadata": {},
   "outputs": [
    {
     "name": "stdout",
     "output_type": "stream",
     "text": [
      "El valor está fuera del rango esperado\n"
     ]
    }
   ],
   "source": [
    "#11. Escribe un programa que pida al usuario que introduzca su edad. \n",
    "# Si el usuario ingresa un valor no numérico o un valor fuera del rango esperado \n",
    "# (por ejemplo, menor que 0 o mayor que 120, maneja las excepciones adecuadamente.\n",
    "\n",
    "try:\n",
    "    intro_edad= int(input(\"introduce tu edad\"))\n",
    "\n",
    "    if intro_edad <0 or intro_edad >120:\n",
    "        print(\"El valor está fuera del rango esperado\")\n",
    "    else:\n",
    "        print('Su edad es:', intro_edad)\n",
    "except ValueError:\n",
    "    print(\"Por favor, ingrese un número válido.\")  \n",
    " \n",
    "\n",
    "    "
   ]
  },
  {
   "cell_type": "code",
   "execution_count": null,
   "id": "31e94650",
   "metadata": {},
   "outputs": [
    {
     "name": "stdout",
     "output_type": "stream",
     "text": [
      "[8, 6, 8, 7, 5]\n"
     ]
    }
   ],
   "source": [
    "#12 Genera una función que al recibir una frase devuelva una \n",
    "# lista con la longitud de cada palabra. Usa la función map()\n",
    "\n",
    "def intro_frase(frase):\n",
    "    palabras = frase.split()\n",
    "    \"\"\"no sabia usar la función split, la tuve que investigar\"\"\"\n",
    "    return(list(map(len,palabra)))\n",
    "\n",
    "frase_uno = \"Map es todo\"\n",
    "resultado_map= intro_frase(frase_uno)\n",
    "print(resultado_map)"
   ]
  },
  {
   "cell_type": "code",
   "execution_count": null,
   "id": "81a387cf",
   "metadata": {},
   "outputs": [
    {
     "name": "stdout",
     "output_type": "stream",
     "text": [
      "(('P', 'p'), ('A', 'a'), ('U', 'u'), ('L', 'l'), ('I', 'i'), ('N', 'n'), ('O', 'o'))\n"
     ]
    }
   ],
   "source": [
    "#13 Genera una función la cual, para un conjunto de caracteres, devuelva una \n",
    "# lista de tuplas con cada letra en mayúsculas y minúsculas. \n",
    "# Las letras no pueden estar repetidas .Usa la función map()\n",
    "\n",
    "def conjunto_caracteres(caracteres):\n",
    "    return(tuple(map(lambda c:(c.upper(), c.lower()), caracteres)))\n",
    "    \n",
    "    \n",
    "\n",
    "tupla_caracteres= ('p','a','u','l','i','n','o')\n",
    "resultado_map= conjunto_caracteres(tupla_caracteres)\n",
    "print(resultado_map)"
   ]
  },
  {
   "cell_type": "code",
   "execution_count": 17,
   "id": "99740660",
   "metadata": {},
   "outputs": [
    {
     "name": "stdout",
     "output_type": "stream",
     "text": [
      "['perro', 'perico', 'primo']\n"
     ]
    }
   ],
   "source": [
    "#14 Crea una función que retorne las palabras de una lista de palabras que \n",
    "# comience con una letra en especifico. Usa la función filter()\n",
    "def lista_palabras(palabras, letra):\n",
    "    return list(filter(lambda p: p.startswith(letra), palabras))\n",
    "\n",
    "\n",
    "lista_especifico= [\"perro\", \"gato\", \"perico\", \"primo\", \"animal\"]\n",
    "resultado_filter= lista_palabras(lista_especifico,\"p\")\n",
    "print(resultado_filter)\n"
   ]
  },
  {
   "cell_type": "code",
   "execution_count": 18,
   "id": "53e266ae",
   "metadata": {},
   "outputs": [
    {
     "name": "stdout",
     "output_type": "stream",
     "text": [
      "El resultado de la suma es: 25\n"
     ]
    }
   ],
   "source": [
    "#15 Crea una función lambda que sume 3 a cada número de una lista dada.\n",
    "def sumar_numeros(numero1, numero2, numero3):\n",
    "    return numero1+numero2+numero3\n",
    "\n",
    "print(f\"El resultado de la suma es: {sumar_numeros(14,5,6)}\")"
   ]
  },
  {
   "cell_type": "code",
   "execution_count": 28,
   "id": "00aec8a7",
   "metadata": {},
   "outputs": [
    {
     "name": "stdout",
     "output_type": "stream",
     "text": [
      "['Tomaron', 'harina', 'chocolate']\n"
     ]
    }
   ],
   "source": [
    "#16 Escribe una función que tome una cadena de texto y un número entero n \n",
    "# como parámetros y devuelva una lista de todas las palabras que sean más largas que n. \n",
    "# Usa la función filter()\n",
    "\n",
    "def p_largas(palabras, n):\n",
    "    cadena= palabras.split()\n",
    "    return(list(filter(lambda p: len(p)>n, cadena)))\n",
    "\n",
    "texto= (\"Tomaron la harina con chocolate frio\")\n",
    "resultado_filter1= p_largas(texto, 5)\n",
    "\n",
    "print(resultado_filter1)\n"
   ]
  },
  {
   "cell_type": "code",
   "execution_count": 31,
   "id": "bffe2311",
   "metadata": {},
   "outputs": [
    {
     "name": "stdout",
     "output_type": "stream",
     "text": [
      "572\n"
     ]
    }
   ],
   "source": [
    "#17 Crea una función que tome una lista de dígitos y devuelva el número correspondiente. \n",
    "# Por ejemplo, 5,7,2 corresponde al número quinientos setenta y dos 572. Usa la función reduce()\n",
    "from functools import reduce\n",
    "\n",
    "def lista_digitos(x,y):\n",
    "    return x *10 +y\n",
    "\n",
    "def numero_corr(digitos):\n",
    "    return reduce(lista_digitos, digitos)\n",
    "\n",
    "print(numero_corr([5,7,2]))"
   ]
  },
  {
   "cell_type": "code",
   "execution_count": null,
   "id": "e1b28e81",
   "metadata": {},
   "outputs": [
    {
     "name": "stdout",
     "output_type": "stream",
     "text": [
      "El/los estudiante/s con calificación mayor o igual a 90: [{'nombre': 'Isabel', 'edad': 27, 'calificacion': 91}, {'nombre': 'Pedro', 'edad': 40, 'calificacion': 97}]\n"
     ]
    }
   ],
   "source": [
    "#18. Escribe un programa en Python que cree una lista de diccionarios que \n",
    "# contenga información de estudiantes (nombre, edad, calificación) y use \n",
    "# la función filter para extraer a los estudiantes con una calificación mayor o igual a 90. \n",
    "# Usa la función filter()\n",
    "\n",
    "estudiantes= [\n",
    "    {\"nombre\": \"Paula\", \"edad\": 30, \"calificacion\": 55},\n",
    "    {\"nombre\": \"Laura\", \"edad\": 32, \"calificacion\": 68},\n",
    "    {\"nombre\": \"Isabel\", \"edad\": 27, \"calificacion\": 91},\n",
    "    {\"nombre\": \"Pedro\", \"edad\": 40, \"calificacion\": 97}\n",
    "]\n",
    "\n",
    "def calificacion_est(estudiante):\n",
    "    return estudiante[\"calificacion\"]>= 90\n",
    "    \n",
    "calificacion_mayor = list(filter(calificacion_est, estudiantes))\n",
    "\n",
    "print(f'El/los estudiante/s con calificación mayor o igual a 90: {calificacion_mayor}')\n"
   ]
  },
  {
   "cell_type": "code",
   "execution_count": 40,
   "id": "0e549cd9",
   "metadata": {},
   "outputs": [
    {
     "name": "stdout",
     "output_type": "stream",
     "text": [
      "[5, 7, 21, 55, 77, 89]\n"
     ]
    }
   ],
   "source": [
    "#19. Crea una función lambda que filtre los números impares de una lista dada.\n",
    "\n",
    "numeros= [2,5,7,21,6,48,55,77,44,34,89]\n",
    "impares = list(filter(lambda y: y % 2 != 0, numeros))\n",
    "\n",
    "print(impares)"
   ]
  },
  {
   "cell_type": "code",
   "execution_count": 53,
   "id": "0efad5b8",
   "metadata": {},
   "outputs": [
    {
     "name": "stdout",
     "output_type": "stream",
     "text": [
      "[87, 982, 7, 3]\n"
     ]
    }
   ],
   "source": [
    "#20. Para una lista con elementos tipo integer y string obtén una nueva lista sólo \n",
    "# con los valores int. Usa la función filter()\n",
    "\n",
    "elementos= [\"casa\", 87, \"Paulina\", 982, 7, 3]\n",
    "valores_int = list(filter(lambda x:isinstance(x, int), elementos))\n",
    "print(valores_int)"
   ]
  },
  {
   "cell_type": "code",
   "execution_count": 57,
   "id": "a24e297d",
   "metadata": {},
   "outputs": [
    {
     "name": "stdout",
     "output_type": "stream",
     "text": [
      "27\n"
     ]
    }
   ],
   "source": [
    "#21. Crea una función que calcule el cubo de un número dado mediante una función lambda\n",
    "\n",
    "cubo_num= lambda x: x**3\n",
    "\n",
    "print(cubo_num(3))"
   ]
  },
  {
   "cell_type": "code",
   "execution_count": 61,
   "id": "3ca1255c",
   "metadata": {},
   "outputs": [
    {
     "name": "stdout",
     "output_type": "stream",
     "text": [
      "El producto total es: 216\n"
     ]
    }
   ],
   "source": [
    "#22. Dada una lista numérica, obtén el producto total de los valores de dicha lista.\n",
    "# Usa la función reduce() .\n",
    "\n",
    "numeros = [4, 6, 9]\n",
    "\n",
    "producto_total = reduce(lambda x, y: x * y, numeros)\n",
    "\n",
    "print(\"El producto total es:\", producto_total)\n"
   ]
  },
  {
   "cell_type": "code",
   "execution_count": 65,
   "id": "9fe397ca",
   "metadata": {},
   "outputs": [
    {
     "name": "stdout",
     "output_type": "stream",
     "text": [
      "arbolpapaazul\n"
     ]
    }
   ],
   "source": [
    "#23. Concatena una lista de palabras.Usa la función reduce() .\n",
    "\n",
    "palabras= [\"arbol\", \"papa\", \"azul\"]\n",
    "\n",
    "lista_concatena= reduce(lambda x, y: x + y, palabras)\n",
    "\n",
    "print(lista_concatena)"
   ]
  },
  {
   "cell_type": "code",
   "execution_count": 71,
   "id": "c209ff99",
   "metadata": {},
   "outputs": [
    {
     "name": "stdout",
     "output_type": "stream",
     "text": [
      "8\n"
     ]
    }
   ],
   "source": [
    "#24. Calcula la diferencia total en los valores de una lista. Usa la función reduce() .\n",
    "\n",
    "numeros = [15, 5, 2]\n",
    "\n",
    "diferencia_total = reduce(lambda x,y: x-y, numeros)\n",
    "\n",
    "print(diferencia_total)"
   ]
  },
  {
   "cell_type": "code",
   "execution_count": 81,
   "id": "7d7a607d",
   "metadata": {},
   "outputs": [
    {
     "name": "stdout",
     "output_type": "stream",
     "text": [
      "[2, 5, 2, 4]\n"
     ]
    }
   ],
   "source": [
    "#25. Crea una función que cuente el número de caracteres en una cadena de texto dada.\n",
    "\n",
    "cadena_texto= 'El arbol es azul'\n",
    "palabras = cadena_texto.split()\n",
    "\n",
    "longitudes = []\n",
    "for p in palabras:\n",
    "    longitudes.append(len(p))\n",
    "\n",
    "print(longitudes)"
   ]
  },
  {
   "cell_type": "code",
   "execution_count": 85,
   "id": "5c2f0cf3",
   "metadata": {},
   "outputs": [
    {
     "name": "stdout",
     "output_type": "stream",
     "text": [
      "2\n"
     ]
    }
   ],
   "source": [
    "#26. Crea una función lambda que calcule el resto de la división entre dos números dados\n",
    "\n",
    "ejercicio_division = lambda x, y: x % y\n",
    "\n",
    "print(ejercicio_division(34,4))\n"
   ]
  },
  {
   "cell_type": "code",
   "execution_count": 87,
   "id": "76ad5fbd",
   "metadata": {},
   "outputs": [
    {
     "name": "stdout",
     "output_type": "stream",
     "text": [
      "125.0\n"
     ]
    }
   ],
   "source": [
    "#27. Crea una función que calcule el promedio de una lista de números.\n",
    "\n",
    "def promedio(lista):\n",
    "    if lista:\n",
    "        return sum(lista) / len(lista)\n",
    "    else:\n",
    "        return 0\n",
    "\n",
    "print(promedio([25, 100, 250]))"
   ]
  },
  {
   "cell_type": "code",
   "execution_count": 92,
   "id": "03ae1d46",
   "metadata": {},
   "outputs": [
    {
     "name": "stdout",
     "output_type": "stream",
     "text": [
      "74\n"
     ]
    }
   ],
   "source": [
    "#28.Crea una función que busque y devuelva el primer elemento duplicado en una lista dada.\n",
    "\n",
    "def elementos_varios(lista_dada):\n",
    "    \"\"\"\n",
    "    Busca y devuelve el primer elemento duplicado en una lista.\n",
    "\n",
    "    Parámetros:\n",
    "    lista_dad (list): Una lista que puede contener cualquier tipo de elementos.\n",
    "\n",
    "    Retorna:\n",
    "    El primer elemento duplicado encontrado en la lista.\n",
    "    Si no hay duplicados, devuelve None.\n",
    "    \"\"\"\n",
    "    duplicado = set()\n",
    "    for e in lista_dada:\n",
    "        if e in duplicado:\n",
    "            return e\n",
    "        duplicado.add(e)\n",
    "    return None\n",
    "\n",
    "numeros = [74, 53, 35, 80, 56, 74, 65, 53]\n",
    "print(elementos_varios(numeros))"
   ]
  },
  {
   "cell_type": "code",
   "execution_count": 101,
   "id": "d19cf4a2",
   "metadata": {},
   "outputs": [
    {
     "data": {
      "text/plain": [
       "'########lina'"
      ]
     },
     "execution_count": 101,
     "metadata": {},
     "output_type": "execute_result"
    }
   ],
   "source": [
    "#29. Crea una función que convierta una variable en una cadena de texto y \n",
    "# enmascare todos los caracteres con el carácter '#', excepto los últimos cuatro.\n",
    "\n",
    "\n",
    "def ocultar_texto(variable):\n",
    "    \"\"\"\n",
    "    Convierte una variable en cadena de texto y enmascara todos los caracteres con '#',\n",
    "    excepto los últimos cuatro.\n",
    "\n",
    "    Parámetros:\n",
    "    variable: Cualquier valor (número, texto, etc.)\n",
    "\n",
    "    Retorna:\n",
    "    str: La cadena enmascarada con '#' excepto los últimos 4 caracteres.\n",
    "         Si la longitud es menor o igual a 4, se devuelve tal como está.\n",
    "    \"\"\"\n",
    "    texto= str(variable)\n",
    "    if len(texto)<= 4:\n",
    "        return (texto)\n",
    "    else: \n",
    "        return '#'*(len(texto)-4)+ texto [-4:]\n",
    "\n",
    "ocultar_texto(\"clavepaulina\")\n",
    "\n"
   ]
  },
  {
   "cell_type": "code",
   "execution_count": 107,
   "id": "709c1f5f",
   "metadata": {},
   "outputs": [
    {
     "name": "stdout",
     "output_type": "stream",
     "text": [
      "True\n"
     ]
    }
   ],
   "source": [
    "#30. Crea una función que determine si dos palabras son anagramas, es decir, \n",
    "# si están formadas por las mismas letras pero en diferente orden.\n",
    "\n",
    "def anagramas(primera, segunda):\n",
    "    \"\"\"\n",
    "    Determina si dos palabras son anagramas.\n",
    "\n",
    "    Parámetros:\n",
    "    palabra1 (str): Primera palabra a comparar.\n",
    "    palabra2 (str): Segunda palabra a comparar.\n",
    "\n",
    "    Retorna:\n",
    "    bool: True si son anagramas, False si no lo son.\n",
    "    \"\"\"\n",
    "    return sorted(primera) == sorted(segunda)\n",
    "\n",
    "print(anagramas (\"gato\", \"toga\"))\n"
   ]
  },
  {
   "cell_type": "code",
   "execution_count": 123,
   "id": "21bbad57",
   "metadata": {},
   "outputs": [],
   "source": [
    "#31. Crea una función que solicite al usuario ingresar una lista de nombres \n",
    "# y luego solicite un nombre para buscar en esa lista. Si el nombre está en la lista, \n",
    "# se imprime un mensaje indicando que fue encontrado, de lo contrario, \n",
    "# se lanza una excepción.\n",
    "\n",
    "def busca_nombres():\n",
    "    \"\"\"\n",
    "    Solicita al usuario una lista de nombres\n",
    "    y luego pide un nombre a buscar en esa lista.\n",
    "\n",
    "    Si el nombre está en la lista, se imprime un mensaje de éxito.\n",
    "    Si no está, lanza una excepción con un mensaje personalizado.\n",
    "    \"\"\"\n",
    "    primera_solicitud= input(\"Ingrese una lista de solo nombres separados por comas:\")\n",
    "    lista_nombres= [nombre.strip().lower() for nombre in primera_solicitud.split(\",\")]\n",
    "\n",
    "    segunda_solicitud = input (\"Ingrese el nombre que quiere buscar:\").strip().lower()\n",
    "\n",
    "    if segunda_solicitud in lista_nombres:\n",
    "        return f\"El nombre encontrado en la lista es '{segunda_solicitud}\"\n",
    "    else:\n",
    "        raise ValueError(f\"Error: vuelve a buscar, nombre no en la lista\")\n"
   ]
  },
  {
   "cell_type": "code",
   "execution_count": 125,
   "id": "99e7c877",
   "metadata": {},
   "outputs": [
    {
     "data": {
      "text/plain": [
       "\"El nombre encontrado en la lista es 'ana\""
      ]
     },
     "execution_count": 125,
     "metadata": {},
     "output_type": "execute_result"
    }
   ],
   "source": [
    "busca_nombres()"
   ]
  },
  {
   "cell_type": "code",
   "execution_count": 4,
   "id": "3e7496fb",
   "metadata": {},
   "outputs": [],
   "source": [
    "#32. Crea una función que tome un nombre completo y una lista de empleados, \n",
    "# busque el nombre completo en la lista y devuelve el puesto del empleado si está en la \n",
    "# lista, de lo contrario, devuelve un mensaje indicando que la persona no trabaja aquí.\n",
    "\n",
    "empleados =[\n",
    "    {'nombre':\"Paulina Galarza\", 'puesto':\"Analista de Datos\"},\n",
    "    {'nombre':\"Maria Garcia\", 'puesto':\"Responsable Recursos Humanos\"},\n",
    "    {'nombre':\"Jose Perez\", 'puesto':\"Director Marketing\"}\n",
    "]\n",
    "\n",
    "def buscar_empleado(nombre_completo, lista_empleados):\n",
    "    \"\"\"\n",
    "    Busca el nombre completo de un empleado en la lista y devuelve su puesto.\n",
    "\n",
    "    Parámetros:\n",
    "    nombre_completo (str): Nombre completo del empleado a buscar.\n",
    "    lista_empleados (list): Lista de diccionarios con claves 'nombre' y 'puesto'.\n",
    "\n",
    "    Retorna:\n",
    "    str: El puesto si se encuentra, o un mensaje indicando que no trabaja aquí.\n",
    "    \"\"\"\n",
    "    for empleado in lista_empleados:\n",
    "        if empleado['nombre'] == nombre_completo:\n",
    "            return f\"{nombre_completo} trabaja como {empleado['puesto']}.\"\n",
    "    \n",
    "    return f\"{nombre_completo} no trabaja aquí.\""
   ]
  },
  {
   "cell_type": "code",
   "execution_count": 7,
   "id": "c76752a9",
   "metadata": {},
   "outputs": [
    {
     "data": {
      "text/plain": [
       "'Javier Garcia no trabaja aquí.'"
      ]
     },
     "execution_count": 7,
     "metadata": {},
     "output_type": "execute_result"
    }
   ],
   "source": [
    "buscar_empleado(\"Paulina Galarza\", empleados)\n",
    "buscar_empleado(\"Javier Garcia\", empleados)"
   ]
  },
  {
   "cell_type": "code",
   "execution_count": 8,
   "id": "a2f854f6",
   "metadata": {},
   "outputs": [
    {
     "name": "stdout",
     "output_type": "stream",
     "text": [
      "[33, 77, 143]\n"
     ]
    }
   ],
   "source": [
    "#33. Crea una función lambda que sume elementos correspondientes de dos listas dadas.\n",
    "\n",
    "primera = [22, 44, 66]\n",
    "segunda = [11, 33, 77]\n",
    "\n",
    "sumar_listas = list(map(lambda x, y: x + y, primera, segunda))\n",
    "print(sumar_listas)"
   ]
  },
  {
   "cell_type": "code",
   "execution_count": 50,
   "id": "864f12a8",
   "metadata": {},
   "outputs": [],
   "source": [
    "#34. Crea la clase Arbol , define un árbol genérico con un tronco y ramas como atributos. \n",
    "# Los métodos disponibles son: crecer_tronco , nueva_rama , crecer_ramas , quitar_rama e \n",
    "# info_arbol . El objetivo es implementar estos métodos para manipular la estructura del árbol.\n",
    "\n",
    "class Arbol:\n",
    "    # Metodo constructor\n",
    "    def __init__(self):\n",
    "        self.tronco = 1\n",
    "        self.ramas = []\n",
    "    \n",
    "    def crecer_tronco(self):\n",
    "        self.tronco += 1\n",
    "\n",
    "    def crecer_ramas(self):\n",
    "        self.ramas = [r + 1 for r in self.ramas]\n",
    "\n",
    "    def nueva_rama(self, cantidad):\n",
    "        for _ in range(cantidad):\n",
    "            self.ramas.append(1)\n",
    "    \n",
    "    def quitar_rama (self, indice):\n",
    "        del self.ramas[indice]\n",
    "\n",
    "    def info_arbol(self):\n",
    "        \"\"\"Muestra la info del arbol\"\"\"\n",
    "        return {\n",
    "            \"Longitud del tronco\": self.tronco,\n",
    "            \"Número de ramas\": len(self.ramas),\n",
    "            \"Longitudes de ramas\": self.ramas\n",
    "        }"
   ]
  },
  {
   "cell_type": "code",
   "execution_count": 51,
   "id": "5da0b10c",
   "metadata": {},
   "outputs": [],
   "source": [
    "#Caso de uso:\n",
    "#1. Crear un árbol.\n",
    "arbol_katas = Arbol()"
   ]
  },
  {
   "cell_type": "code",
   "execution_count": 52,
   "id": "c95db390",
   "metadata": {},
   "outputs": [],
   "source": [
    "#2. Hacer crecer el tronco del árbol una unidad.\n",
    "arbol_katas.crecer_tronco()"
   ]
  },
  {
   "cell_type": "code",
   "execution_count": 54,
   "id": "80bb7e88",
   "metadata": {},
   "outputs": [],
   "source": [
    "#3. Añadir una nueva rama al árbol.\n",
    "arbol_katas.nueva_rama(1)"
   ]
  },
  {
   "cell_type": "code",
   "execution_count": 78,
   "id": "0d098722",
   "metadata": {},
   "outputs": [],
   "source": [
    "#4. Hacer crecer todas las ramas del árbol una unidad. \n",
    "arbol_katas.crecer_ramas()\n"
   ]
  },
  {
   "cell_type": "code",
   "execution_count": 65,
   "id": "af465afd",
   "metadata": {},
   "outputs": [],
   "source": [
    "#5. Añadir dos nuevas ramas al árbol.\n",
    "arbol_katas.nueva_rama(2)"
   ]
  },
  {
   "cell_type": "code",
   "execution_count": null,
   "id": "503b9ec1",
   "metadata": {},
   "outputs": [],
   "source": [
    "#6. Retirar la rama situada en la posición 2.\n",
    "arbol_katas.quitar_rama(2)"
   ]
  },
  {
   "cell_type": "code",
   "execution_count": 66,
   "id": "b32bccbd",
   "metadata": {},
   "outputs": [
    {
     "name": "stdout",
     "output_type": "stream",
     "text": [
      "{'Longitud del tronco': 2, 'Número de ramas': 4, 'Longitudes de ramas': [4, 4, 1, 1]}\n"
     ]
    }
   ],
   "source": [
    "#7. Obtener información sobre el árbol.\n",
    "print(arbol_katas.info_arbol())"
   ]
  },
  {
   "cell_type": "code",
   "execution_count": 86,
   "id": "eb089317",
   "metadata": {},
   "outputs": [],
   "source": [
    "#35. Crea la clase UsuarioBanco ,representa a un usuario de un banco con su nombre, \n",
    "# saldo y si tiene o no cuenta corriente. Proporciona métodos para realizar operaciones \n",
    "# como retirar dinero, transferir dinero desde otro usuario y agregar dinero al saldo.\n",
    "\n",
    "class UsuarioBanco:\n",
    "    # Metodo constructor\n",
    "    def __init__(self, nombre, saldo, cuenta_corriente):\n",
    "        self.nombre = nombre\n",
    "        self.saldo = saldo              \n",
    "        self.cuenta_corriente = cuenta_corriente \n",
    "\n",
    "    def retirar_dinero (self, cantidad):\n",
    "        \"\"\"Lanza:\n",
    "        ValueError: Si la cantidad es inválida o no hay suficiente saldo.\n",
    "        \"\"\"\n",
    "        if cantidad <= 0:\n",
    "            raise ValueError(\"La cantidad a retirar debe ser mayor que 0.\")\n",
    "        if cantidad > self.saldo:\n",
    "            raise ValueError(\"Fondos insuficientes para retirar.\")\n",
    "        self.saldo -= cantidad\n",
    "\n",
    "    def transferir_dinero(self, usuario_2, cantidad):\n",
    "        if cantidad <= 0:\n",
    "            raise ValueError(\"La cantidad a transferir debe ser mayor que 0.\")\n",
    "        if cantidad > usuario_2.saldo:\n",
    "            raise ValueError(f\"{usuario_2.nombre} no tiene fondos suficientes.\")\n",
    "        otro_usuario.saldo -= cantidad\n",
    "        self.saldo += cantidad\n",
    "    \n",
    "    def agregar_dinero(self, cantidad):\n",
    "        if cantidad <= 0:\n",
    "            raise ValueError(\"La cantidad a agregar debe ser mayor que 0.\")\n",
    "        self.saldo += cantidad\n"
   ]
  },
  {
   "cell_type": "code",
   "execution_count": 95,
   "id": "0e1554bf",
   "metadata": {},
   "outputs": [
    {
     "name": "stdout",
     "output_type": "stream",
     "text": [
      "100\n",
      "50\n"
     ]
    }
   ],
   "source": [
    "#Caso de uso:\n",
    "#1. Crear dos usuarios: \"Alicia\" con saldo inicial de 100 y \"Bob\" con saldo inicial de 50,\n",
    "#ambos con cuenta corriente.\n",
    "usuario1 = UsuarioBanco(\"Alicia\", 100, True)\n",
    "usuario2 = UsuarioBanco(\"Bob\", 50, True)\n",
    "\n",
    "print(usuario1.saldo)\n",
    "print(usuario2.saldo)\n"
   ]
  },
  {
   "cell_type": "code",
   "execution_count": 96,
   "id": "cff2c739",
   "metadata": {},
   "outputs": [
    {
     "name": "stdout",
     "output_type": "stream",
     "text": [
      "70\n"
     ]
    }
   ],
   "source": [
    "#2.Agregar 20 unidades de saldo de \"Bob\".\n",
    "usuario2.agregar_dinero(20)\n",
    "print (usuario2.saldo)"
   ]
  },
  {
   "cell_type": "code",
   "execution_count": 97,
   "id": "b16ea47b",
   "metadata": {},
   "outputs": [
    {
     "ename": "ValueError",
     "evalue": "Bob no tiene fondos suficientes.",
     "output_type": "error",
     "traceback": [
      "\u001b[31m---------------------------------------------------------------------------\u001b[39m",
      "\u001b[31mValueError\u001b[39m                                Traceback (most recent call last)",
      "\u001b[36mCell\u001b[39m\u001b[36m \u001b[39m\u001b[32mIn[97]\u001b[39m\u001b[32m, line 2\u001b[39m\n\u001b[32m      1\u001b[39m \u001b[38;5;66;03m#3. Hacer una transferencia de 80 unidades desde \"Bob\" a \"Alicia\".\u001b[39;00m\n\u001b[32m----> \u001b[39m\u001b[32m2\u001b[39m \u001b[43musuario1\u001b[49m\u001b[43m.\u001b[49m\u001b[43mtransferir_dinero\u001b[49m\u001b[43m(\u001b[49m\u001b[43musuario2\u001b[49m\u001b[43m,\u001b[49m\u001b[43m \u001b[49m\u001b[32;43m80\u001b[39;49m\u001b[43m)\u001b[49m\n",
      "\u001b[36mCell\u001b[39m\u001b[36m \u001b[39m\u001b[32mIn[86]\u001b[39m\u001b[32m, line 26\u001b[39m, in \u001b[36mUsuarioBanco.transferir_dinero\u001b[39m\u001b[34m(self, usuario_2, cantidad)\u001b[39m\n\u001b[32m     24\u001b[39m     \u001b[38;5;28;01mraise\u001b[39;00m \u001b[38;5;167;01mValueError\u001b[39;00m(\u001b[33m\"\u001b[39m\u001b[33mLa cantidad a transferir debe ser mayor que 0.\u001b[39m\u001b[33m\"\u001b[39m)\n\u001b[32m     25\u001b[39m \u001b[38;5;28;01mif\u001b[39;00m cantidad > usuario_2.saldo:\n\u001b[32m---> \u001b[39m\u001b[32m26\u001b[39m     \u001b[38;5;28;01mraise\u001b[39;00m \u001b[38;5;167;01mValueError\u001b[39;00m(\u001b[33mf\u001b[39m\u001b[33m\"\u001b[39m\u001b[38;5;132;01m{\u001b[39;00musuario_2.nombre\u001b[38;5;132;01m}\u001b[39;00m\u001b[33m no tiene fondos suficientes.\u001b[39m\u001b[33m\"\u001b[39m)\n\u001b[32m     27\u001b[39m otro_usuario.saldo -= cantidad\n\u001b[32m     28\u001b[39m \u001b[38;5;28mself\u001b[39m.saldo += cantidad\n",
      "\u001b[31mValueError\u001b[39m: Bob no tiene fondos suficientes."
     ]
    }
   ],
   "source": [
    "#3. Hacer una transferencia de 80 unidades desde \"Bob\" a \"Alicia\".\n",
    "usuario1.transferir_dinero(usuario2, 80)"
   ]
  },
  {
   "cell_type": "code",
   "execution_count": 98,
   "id": "901cb4fc",
   "metadata": {},
   "outputs": [
    {
     "name": "stdout",
     "output_type": "stream",
     "text": [
      "50\n"
     ]
    }
   ],
   "source": [
    "#4. Retirar 50 unidades de saldo a \"Alicia\"\n",
    "usuario1.retirar_dinero(50)\n",
    "print(usuario1.saldo)"
   ]
  },
  {
   "cell_type": "code",
   "execution_count": 132,
   "id": "e8605e9f",
   "metadata": {},
   "outputs": [],
   "source": [
    "#36. Crea una función llamada procesar_texto que procesa un texto según la opción \n",
    "# especificada: contar_palabras , reemplazar_palabras , eliminar_palabra . \n",
    "# Estas opciones son otras funciones que tenemos que definir primero y llamar dentro\n",
    "# de la función procesar_texto .\n",
    "\n",
    "#Código a seguir:\n",
    "# 1. Crear una función contar_palabras para contar el número de veces que aparece cada \n",
    "# palabra en el texto. Tiene que devolver un diccionario.\n",
    "\n",
    "def contar_palabras(texto):\n",
    "    palabras= texto.split()\n",
    "    conteo = {}\n",
    "    for palabra in palabras:\n",
    "        if palabra in conteo:\n",
    "            conteo[palabra] +=1\n",
    "        else:\n",
    "            conteo[palabra] =1\n",
    "    return conteo"
   ]
  },
  {
   "cell_type": "code",
   "execution_count": 137,
   "id": "4a7c8b20",
   "metadata": {},
   "outputs": [],
   "source": [
    "#2. Crear una función reemplazar_palabras para remplazar una palabra_original del texto \n",
    "# por una palabra_nueva . Tiene que devolver el texto con el remplazo de palabras.\n",
    "\n",
    "def reemplazar_palabras(texto, palabra_original,  palabra_nueva):\n",
    "    palabras = texto.split()\n",
    "    resultado =[]\n",
    "    for palabra in palabras:\n",
    "        if palabra.lower() ==palabra_original.lower():\n",
    "            resultado.append(palabra_nueva)\n",
    "        else:\n",
    "            resultado.append(palabra)\n",
    "    return \" \".join(resultado)"
   ]
  },
  {
   "cell_type": "code",
   "execution_count": 138,
   "id": "fc29c69a",
   "metadata": {},
   "outputs": [],
   "source": [
    "#3. Crear una función eliminar_palabra para eliminar una palabra del texto. \n",
    "# Tiene que devolver el texto con la palabra eliminada.\n",
    "\n",
    "def eliminar_palabra(texto, eliminada):\n",
    "    palabras = texto.split()\n",
    "    resultado=[]\n",
    "    for palabra in palabras:\n",
    "        if palabra != eliminada:\n",
    "            resultado.append(palabra)\n",
    "    return \" \".join(resultado)"
   ]
  },
  {
   "cell_type": "code",
   "execution_count": 139,
   "id": "b6efbf4f",
   "metadata": {},
   "outputs": [],
   "source": [
    "# 4. Crear la función procesar_texto que tome un texto, una opción\n",
    "# (entre \"contar\", \"reemplazar\", \"eliminar\") y un número de argumentos variable según \n",
    "# la opción indicada.\n",
    "\n",
    "def procesar_texto(texto, opcion, *args):\n",
    "    \"\"\"\n",
    "    Procesa el texto según la opción:\n",
    "    - 'contar' no requiere argumentos extra.\n",
    "    - 'reemplazar' requiere palabra_original y palabra_nueva.\n",
    "    - 'eliminar' requiere palabra_a_eliminar.\n",
    "    \"\"\"\n",
    "    if opcion == \"contar\":\n",
    "        return contar_palabras(texto)\n",
    "    elif opcion == \"reemplazar\":\n",
    "        palabra_original, palabra_nueva = args\n",
    "        return reemplazar_palabras(texto, palabra_original, palabra_nueva)\n",
    "    elif opcion == \"eliminar\":\n",
    "        palabra = args[0]\n",
    "        return eliminar_palabra(texto, palabra)\n",
    "    else:\n",
    "        return \"Opción no válida\""
   ]
  },
  {
   "cell_type": "code",
   "execution_count": 140,
   "id": "a8bbbffe",
   "metadata": {},
   "outputs": [
    {
     "name": "stdout",
     "output_type": "stream",
     "text": [
      "{'Las': 1, 'clases': 1, 'de': 1, 'Python': 1, 'son': 1, 'muy': 1, 'entretenidas': 1}\n"
     ]
    }
   ],
   "source": [
    "#Caso de uso:\n",
    "#Comprueba el funcionamiento completo de la función procesar_texto\n",
    "\n",
    "texto = \"Las clases de Python son muy entretenidas\"\n",
    "print(procesar_texto(texto, \"contar\"))"
   ]
  },
  {
   "cell_type": "code",
   "execution_count": 141,
   "id": "a23221d0",
   "metadata": {},
   "outputs": [
    {
     "name": "stdout",
     "output_type": "stream",
     "text": [
      "Las clases de sql son muy entretenidas\n"
     ]
    }
   ],
   "source": [
    "print(procesar_texto(texto, \"reemplazar\", \"python\", \"sql\"))"
   ]
  },
  {
   "cell_type": "code",
   "execution_count": 142,
   "id": "91f22ec3",
   "metadata": {},
   "outputs": [
    {
     "name": "stdout",
     "output_type": "stream",
     "text": [
      "Las clases de Python muy entretenidas\n"
     ]
    }
   ],
   "source": [
    "print(procesar_texto(texto, \"eliminar\", \"son\"))"
   ]
  },
  {
   "cell_type": "code",
   "execution_count": 153,
   "id": "080e1db7",
   "metadata": {},
   "outputs": [
    {
     "name": "stdout",
     "output_type": "stream",
     "text": [
      "Es de dia\n"
     ]
    }
   ],
   "source": [
    "#37. Genera un programa que nos diga si es de noche, de día o tarde \n",
    "# según la hora proporcionada por el usuario.\n",
    "\n",
    "decir_hora = input(\"Por favor indica que hora es:  \")\n",
    "\n",
    "try:\n",
    "    hora_str, _ = decir_hora.split(\":\")\n",
    "    hora = int(hora_str)\n",
    "\n",
    "    def hora_usuario(hora):\n",
    "        if 6 <= hora < 12:\n",
    "            return \"Es de dia\"\n",
    "        elif 12 <= hora < 20:\n",
    "            return \"Es de tarde\"\n",
    "        elif 1 <= hora < 6 or 20 <= hora <= 24:\n",
    "            return \"Es de noche\"\n",
    "        else:\n",
    "            return \"La hora no es válida. Debe estar entre 1 y 24.\"\n",
    "    \n",
    "    print (hora_usuario(hora))\n",
    "\n",
    "except ValueError:\n",
    "    print(\"Por favor introduce la hora en el formato correcto 00:00\")"
   ]
  },
  {
   "cell_type": "code",
   "execution_count": 155,
   "id": "497330c5",
   "metadata": {},
   "outputs": [
    {
     "name": "stdout",
     "output_type": "stream",
     "text": [
      "su calificacion es: excelente\n"
     ]
    }
   ],
   "source": [
    "#38. Escribe un programa que determine qué calificación en texto tiene un alumno en base \n",
    "# a su calificación numérica. Las reglas de calificación son:\n",
    "# - (0 - 69 insuficiente) -(70 - 79 bien)-(80- 89 muy bien)-(90- 100 excelente)\n",
    "\n",
    "def calificacion_alumno(nota):\n",
    "    \"\"\"\n",
    "    Determina la calificación textual en base a una nota numérica.\n",
    "    \"\"\"\n",
    "    if 0 <= nota <= 69:\n",
    "        return \"insuficiente\"\n",
    "    elif 70 <= nota <= 79:\n",
    "        return \"bien\"\n",
    "    elif 80 <= nota <= 89:\n",
    "        return \"muy bien\"\n",
    "    elif 90 <= nota <= 100:\n",
    "        return \"excelente\"\n",
    "    else:\n",
    "        return \"la nota debe estar en un rango del 0 al 100\"\n",
    "\n",
    "try:\n",
    "    nota_alumno = int(input(\"¿cual es la nota del alumno: ?\"))\n",
    "    print(f\"su calificacion es: {calificacion_alumno(nota_alumno)}\")\n",
    "except ValueError:\n",
    "    print(\"numero no valido\")"
   ]
  },
  {
   "cell_type": "code",
   "execution_count": null,
   "id": "b5b51a3c",
   "metadata": {},
   "outputs": [
    {
     "name": "stdout",
     "output_type": "stream",
     "text": [
      "12.0\n"
     ]
    }
   ],
   "source": [
    "#39. Escribe una función que tome dos parámetros: figura (una cadena que puede ser \n",
    "# \"rectangulo\" , \"circulo\" o \"triangulo\" ) y datos \n",
    "# (una tupla con los datos necesarios para calcular el área de la figura).\n",
    "\n",
    "def calcular_area(figura, datos):\n",
    "    \"\"\"\n",
    "    Calcula el área de una figura geométrica según el tipo y los datos dados.\n",
    "\n",
    "    Parámetros:\n",
    "    figura (str): he elegido el \"triangulo\"\n",
    "    datos (tuple): Valores necesarios para el cálculo\n",
    "\n",
    "    Retorna:\n",
    "    float: área de la figura, o un mensaje de error si la figura no es válida.\n",
    "    \"\"\"\n",
    "    if figura == \"triangulo\":\n",
    "        base, altura = datos\n",
    "        return (base * altura) / 2\n",
    "    else:\n",
    "        return \"Figura no válida. Solo se permite 'triangulo'.\"\n",
    "\n",
    "print(calcular_area(\"triangulo\", (6, 4)))"
   ]
  },
  {
   "cell_type": "code",
   "execution_count": 162,
   "id": "882df005",
   "metadata": {},
   "outputs": [
    {
     "name": "stdout",
     "output_type": "stream",
     "text": [
      "Figura no válida. Solo se permite 'triangulo'.\n"
     ]
    }
   ],
   "source": [
    "print(calcular_area(\"circulo\", (3,4)))"
   ]
  },
  {
   "cell_type": "code",
   "execution_count": 171,
   "id": "91e5204c",
   "metadata": {},
   "outputs": [
    {
     "name": "stdout",
     "output_type": "stream",
     "text": [
      "el precio es: 29.0\n"
     ]
    }
   ],
   "source": [
    "#40. En este ejercicio, se te pedirá que escribas un programa en Python que utilice \n",
    "# condicionales para determinar el monto final de una compra en una tienda en línea, \n",
    "# después de aplicar un descuento. \n",
    "\n",
    "try: \n",
    "   # 1. Solicita al usuario que ingrese el precio original de un artículo\n",
    "   precio_original = float(input(\"ingreso el precio del articulo sin descuento: \"))\n",
    "   #2. Pregunta al usuario si tiene un cupón de descuento (respuesta sí o no).\n",
    "   cupon_descuento= input(\"¿tienes cupon de descuento (si-no)\").strip().lower()\n",
    "   #3. Si el usuario responde que sí, solicita que ingrese el valor del cupón de descuento.\n",
    "   if cupon_descuento==\"si\":\n",
    "        valor_cupon= float(input(\"ingresa el valor del cupon de descuento: \"))\n",
    "        #4. Aplica el descuento al precio original del artículo, siempre y cuando el valor \n",
    "        # del cupón sea válido (es decir, mayor a cero). Por ejemplo, descuento de 15€.\n",
    "        if valor_cupon > 0:\n",
    "            precio_final = precio_original - valor_cupon\n",
    "        else:\n",
    "            precio_final = precio_original\n",
    "            print(\"el cupon no es valido (debe ser mayor que 0).\")\n",
    "        #5. Muestra el precio final de la compra, teniendo en cuenta el descuento aplicado o sin él.\n",
    "        print(f\"el precio es: {precio_final}\" )\n",
    "\n",
    "   elif cupon_descuento == \"no\":\n",
    "        print(f\"el precio es: {precio_original}\" )\n",
    "   else:\n",
    "      print(\"solo se admite si-no\")\n",
    "except ValueError:\n",
    "   print(\"por favor introduce solo numeros validos\")"
   ]
  }
 ],
 "metadata": {
  "kernelspec": {
   "display_name": "venv",
   "language": "python",
   "name": "python3"
  },
  "language_info": {
   "codemirror_mode": {
    "name": "ipython",
    "version": 3
   },
   "file_extension": ".py",
   "mimetype": "text/x-python",
   "name": "python",
   "nbconvert_exporter": "python",
   "pygments_lexer": "ipython3",
   "version": "3.13.3"
  }
 },
 "nbformat": 4,
 "nbformat_minor": 5
}
